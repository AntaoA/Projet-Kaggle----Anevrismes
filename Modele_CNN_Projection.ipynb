{
 "cells": [
  {
   "cell_type": "markdown",
   "id": "235be52b",
   "metadata": {
    "papermill": {
     "duration": 0.004501,
     "end_time": "2025-10-21T13:31:54.120506",
     "exception": false,
     "start_time": "2025-10-21T13:31:54.116005",
     "status": "completed"
    },
    "tags": []
   },
   "source": [
    "## Librairies"
   ]
  },
  {
   "cell_type": "code",
   "execution_count": null,
   "id": "7b97a205",
   "metadata": {
    "_cell_guid": "b1076dfc-b9ad-4769-8c92-a6c4dae69d19",
    "_uuid": "8f2839f25d086af736a60e9eeb907d3b93b6e0e5",
    "execution": {
     "iopub.execute_input": "2025-10-21T13:31:54.129163Z",
     "iopub.status.busy": "2025-10-21T13:31:54.128901Z",
     "iopub.status.idle": "2025-10-21T13:32:09.195465Z",
     "shell.execute_reply": "2025-10-21T13:32:09.194570Z"
    },
    "papermill": {
     "duration": 15.072707,
     "end_time": "2025-10-21T13:32:09.197023",
     "exception": false,
     "start_time": "2025-10-21T13:31:54.124316",
     "status": "completed"
    },
    "tags": []
   },
   "outputs": [
    {
     "name": "stderr",
     "output_type": "stream",
     "text": [
      "2025-10-21 13:31:58.116209: E external/local_xla/xla/stream_executor/cuda/cuda_fft.cc:477] Unable to register cuFFT factory: Attempting to register factory for plugin cuFFT when one has already been registered\n",
      "WARNING: All log messages before absl::InitializeLog() is called are written to STDERR\n",
      "E0000 00:00:1761053518.282776      19 cuda_dnn.cc:8310] Unable to register cuDNN factory: Attempting to register factory for plugin cuDNN when one has already been registered\n",
      "E0000 00:00:1761053518.343281      19 cuda_blas.cc:1418] Unable to register cuBLAS factory: Attempting to register factory for plugin cuBLAS when one has already been registered\n"
     ]
    }
   ],
   "source": [
    "import os\n",
    "import gc\n",
    "import numpy as np\n",
    "import pandas as pd\n",
    "import matplotlib.pyplot as plt\n",
    "import seaborn as sns\n",
    "import tensorflow as tf\n",
    "from tensorflow.keras.models import Sequential\n",
    "from tensorflow.keras.layers import Conv2D, MaxPooling2D, Flatten, Dense, Dropout, BatchNormalization, Input\n",
    "from tensorflow.keras.callbacks import EarlyStopping\n",
    "from tensorflow.keras.preprocessing.image import ImageDataGenerator\n",
    "from sklearn.model_selection import train_test_split\n",
    "from sklearn.metrics import classification_report, confusion_matrix, roc_curve, auc, precision_recall_curve, average_precision_score, accuracy_score  \n",
    "from itertools import product\n",
    "from tensorflow.keras.metrics import Recall\n",
    "from sklearn.metrics import roc_curve, auc, roc_auc_score, precision_recall_curve, average_precision_score\n",
    "from sklearn.utils.class_weight import compute_class_weight"
   ]
  },
  {
   "cell_type": "markdown",
   "id": "a1d45be1",
   "metadata": {
    "papermill": {
     "duration": 0.003818,
     "end_time": "2025-10-21T13:32:09.205378",
     "exception": false,
     "start_time": "2025-10-21T13:32:09.201560",
     "status": "completed"
    },
    "tags": []
   },
   "source": [
    "## Parametres"
   ]
  },
  {
   "cell_type": "code",
   "execution_count": 2,
   "id": "11265578",
   "metadata": {
    "execution": {
     "iopub.execute_input": "2025-10-21T13:32:09.214384Z",
     "iopub.status.busy": "2025-10-21T13:32:09.213893Z",
     "iopub.status.idle": "2025-10-21T13:32:09.218345Z",
     "shell.execute_reply": "2025-10-21T13:32:09.217770Z"
    },
    "papermill": {
     "duration": 0.01013,
     "end_time": "2025-10-21T13:32:09.219388",
     "exception": false,
     "start_time": "2025-10-21T13:32:09.209258",
     "status": "completed"
    },
    "tags": []
   },
   "outputs": [],
   "source": [
    "# Paramètres\n",
    "multiclass = False   # Pour choisir si on veut prédire juste la présence d'anévrismes ou la localisation des anévrismes\n",
    "epochs = 50\n",
    "patience = 10\n",
    "\n",
    "# Grille\n",
    "dropouts = [0.1, 0.2, 0.3]\n",
    "learning_rates = [1e-4, 5e-4, 1e-5]\n",
    "batch_sizes = [16, 32]\n",
    "optimizers = [\"adam\", \"rmsprop\"]\n",
    "data_augmentation_list = [False, True]"
   ]
  },
  {
   "cell_type": "markdown",
   "id": "43741125",
   "metadata": {
    "papermill": {
     "duration": 0.003947,
     "end_time": "2025-10-21T13:32:09.227423",
     "exception": false,
     "start_time": "2025-10-21T13:32:09.223476",
     "status": "completed"
    },
    "tags": []
   },
   "source": [
    "## Données"
   ]
  },
  {
   "cell_type": "code",
   "execution_count": 3,
   "id": "07b2030a",
   "metadata": {
    "execution": {
     "iopub.execute_input": "2025-10-21T13:32:09.236400Z",
     "iopub.status.busy": "2025-10-21T13:32:09.236164Z",
     "iopub.status.idle": "2025-10-21T13:32:35.123039Z",
     "shell.execute_reply": "2025-10-21T13:32:35.122208Z"
    },
    "papermill": {
     "duration": 25.893011,
     "end_time": "2025-10-21T13:32:35.124545",
     "exception": false,
     "start_time": "2025-10-21T13:32:09.231534",
     "status": "completed"
    },
    "tags": []
   },
   "outputs": [],
   "source": [
    "# Chargement des données sauvegardées\n",
    "x_images = np.load('/kaggle/input/images/x_images.npy')\n",
    "y_labels = np.load('/kaggle/input/images/y_labels.npy')"
   ]
  },
  {
   "cell_type": "code",
   "execution_count": 4,
   "id": "d685c4a2",
   "metadata": {
    "execution": {
     "iopub.execute_input": "2025-10-21T13:32:35.133088Z",
     "iopub.status.busy": "2025-10-21T13:32:35.132637Z",
     "iopub.status.idle": "2025-10-21T13:32:35.137622Z",
     "shell.execute_reply": "2025-10-21T13:32:35.136961Z"
    },
    "papermill": {
     "duration": 0.010304,
     "end_time": "2025-10-21T13:32:35.138797",
     "exception": false,
     "start_time": "2025-10-21T13:32:35.128493",
     "status": "completed"
    },
    "tags": []
   },
   "outputs": [
    {
     "data": {
      "text/plain": [
       "(4026, 256, 256, 5)"
      ]
     },
     "execution_count": 4,
     "metadata": {},
     "output_type": "execute_result"
    }
   ],
   "source": [
    "x_images.shape"
   ]
  },
  {
   "cell_type": "code",
   "execution_count": 5,
   "id": "c7bf5eb5",
   "metadata": {
    "execution": {
     "iopub.execute_input": "2025-10-21T13:32:35.146900Z",
     "iopub.status.busy": "2025-10-21T13:32:35.146654Z",
     "iopub.status.idle": "2025-10-21T13:32:35.149924Z",
     "shell.execute_reply": "2025-10-21T13:32:35.149246Z"
    },
    "papermill": {
     "duration": 0.008518,
     "end_time": "2025-10-21T13:32:35.151054",
     "exception": false,
     "start_time": "2025-10-21T13:32:35.142536",
     "status": "completed"
    },
    "tags": []
   },
   "outputs": [],
   "source": [
    "# Garder uniquement la première modalité\n",
    "# liste_techniques = [\"MIP\",  \"Variance\", \"Std\", \"Entropy\", \"Energy\"]\n",
    "# Pour MIP mettre [..., 0:1], pour variance [..., 1:2], pour std [..., 2:3], pour energy [..., 4:5]  (entropy semble ne pas fonctionner correctement)\n",
    "x_images = x_images[..., 0:1]"
   ]
  },
  {
   "cell_type": "code",
   "execution_count": 6,
   "id": "870a765d",
   "metadata": {
    "execution": {
     "iopub.execute_input": "2025-10-21T13:32:35.159337Z",
     "iopub.status.busy": "2025-10-21T13:32:35.158770Z",
     "iopub.status.idle": "2025-10-21T13:32:37.784680Z",
     "shell.execute_reply": "2025-10-21T13:32:37.783904Z"
    },
    "papermill": {
     "duration": 2.631104,
     "end_time": "2025-10-21T13:32:37.785821",
     "exception": false,
     "start_time": "2025-10-21T13:32:35.154717",
     "status": "completed"
    },
    "tags": []
   },
   "outputs": [
    {
     "name": "stdout",
     "output_type": "stream",
     "text": [
      "Min : 0.0\n",
      "Max : 1.0\n",
      "Mean : 0.28220877\n",
      "Std : 0.27041653\n"
     ]
    }
   ],
   "source": [
    "# Pour vérifier la normalisation des données\n",
    "print(\"Min :\", x_images.min())\n",
    "print(\"Max :\", x_images.max())\n",
    "print(\"Mean :\", x_images.mean())\n",
    "print(\"Std :\", x_images.std())"
   ]
  },
  {
   "cell_type": "code",
   "execution_count": 7,
   "id": "bc56005e",
   "metadata": {
    "execution": {
     "iopub.execute_input": "2025-10-21T13:32:37.794745Z",
     "iopub.status.busy": "2025-10-21T13:32:37.794489Z",
     "iopub.status.idle": "2025-10-21T13:32:37.798497Z",
     "shell.execute_reply": "2025-10-21T13:32:37.797984Z"
    },
    "papermill": {
     "duration": 0.00955,
     "end_time": "2025-10-21T13:32:37.799471",
     "exception": false,
     "start_time": "2025-10-21T13:32:37.789921",
     "status": "completed"
    },
    "tags": []
   },
   "outputs": [],
   "source": [
    "if multiclass:\n",
    "    num_classes = y_labels.shape[1]\n",
    "    y_data = y_labels.astype(np.float32)\n",
    "else:\n",
    "    nothing_index = 8\n",
    "    y_data = 1 - y_labels[:, nothing_index]\n",
    "    y_data = y_data.astype(np.float32)\n",
    "    num_classes = 1"
   ]
  },
  {
   "cell_type": "code",
   "execution_count": 8,
   "id": "cd5f5659",
   "metadata": {
    "execution": {
     "iopub.execute_input": "2025-10-21T13:32:37.808325Z",
     "iopub.status.busy": "2025-10-21T13:32:37.807867Z",
     "iopub.status.idle": "2025-10-21T13:32:38.643249Z",
     "shell.execute_reply": "2025-10-21T13:32:38.642650Z"
    },
    "papermill": {
     "duration": 0.84107,
     "end_time": "2025-10-21T13:32:38.644509",
     "exception": false,
     "start_time": "2025-10-21T13:32:37.803439",
     "status": "completed"
    },
    "tags": []
   },
   "outputs": [],
   "source": [
    "x_train, x_test, y_train, y_test = train_test_split(\n",
    "    x_images, y_data,\n",
    "    test_size=0.4,\n",
    "    shuffle=True,\n",
    "    stratify=y_data if not multiclass else np.argmax(y_data, axis=1),\n",
    "    random_state=42\n",
    ")\n",
    "\n",
    "x_train, x_val, y_train, y_val = train_test_split(\n",
    "    x_train, y_train,\n",
    "    test_size=0.2,\n",
    "    stratify=y_train if not multiclass else np.argmax(y_train, axis=1),\n",
    "    random_state=42\n",
    ")"
   ]
  },
  {
   "cell_type": "code",
   "execution_count": 9,
   "id": "85491e50",
   "metadata": {
    "execution": {
     "iopub.execute_input": "2025-10-21T13:32:38.653509Z",
     "iopub.status.busy": "2025-10-21T13:32:38.653063Z",
     "iopub.status.idle": "2025-10-21T13:32:38.656838Z",
     "shell.execute_reply": "2025-10-21T13:32:38.655989Z"
    },
    "papermill": {
     "duration": 0.009383,
     "end_time": "2025-10-21T13:32:38.657989",
     "exception": false,
     "start_time": "2025-10-21T13:32:38.648606",
     "status": "completed"
    },
    "tags": []
   },
   "outputs": [
    {
     "name": "stdout",
     "output_type": "stream",
     "text": [
      "(1932, 256, 256, 1)\n",
      "(1611, 256, 256, 1)\n",
      "(483, 256, 256, 1)\n"
     ]
    }
   ],
   "source": [
    "print(x_train.shape)\n",
    "print(x_test.shape)\n",
    "print(x_val.shape)"
   ]
  },
  {
   "cell_type": "code",
   "execution_count": null,
   "id": "03e5db69",
   "metadata": {
    "execution": {
     "iopub.execute_input": "2025-10-21T13:32:38.666361Z",
     "iopub.status.busy": "2025-10-21T13:32:38.666169Z",
     "iopub.status.idle": "2025-10-21T13:32:38.840694Z",
     "shell.execute_reply": "2025-10-21T13:32:38.839903Z"
    },
    "papermill": {
     "duration": 0.180375,
     "end_time": "2025-10-21T13:32:38.842242",
     "exception": false,
     "start_time": "2025-10-21T13:32:38.661867",
     "status": "completed"
    },
    "tags": []
   },
   "outputs": [],
   "source": [
    "# augmentation de données\n",
    "datagen = ImageDataGenerator(\n",
    "    rotation_range=10,\n",
    "    width_shift_range=0.1,\n",
    "    height_shift_range=0.1,\n",
    "    horizontal_flip=True\n",
    ")\n",
    "datagen.fit(x_train)"
   ]
  },
  {
   "cell_type": "markdown",
   "id": "347ba322",
   "metadata": {
    "papermill": {
     "duration": 0.003809,
     "end_time": "2025-10-21T13:32:38.850249",
     "exception": false,
     "start_time": "2025-10-21T13:32:38.846440",
     "status": "completed"
    },
    "tags": []
   },
   "source": [
    "## Modele"
   ]
  },
  {
   "cell_type": "code",
   "execution_count": null,
   "id": "18b458a9",
   "metadata": {
    "execution": {
     "iopub.execute_input": "2025-10-21T13:32:38.859517Z",
     "iopub.status.busy": "2025-10-21T13:32:38.859044Z",
     "iopub.status.idle": "2025-10-21T13:32:38.866063Z",
     "shell.execute_reply": "2025-10-21T13:32:38.865522Z"
    },
    "papermill": {
     "duration": 0.01274,
     "end_time": "2025-10-21T13:32:38.867109",
     "exception": false,
     "start_time": "2025-10-21T13:32:38.854369",
     "status": "completed"
    },
    "tags": []
   },
   "outputs": [],
   "source": [
    "def build_model(dropout_rate=0.1, lr=1e-4, optimizer_name=\"adam\"):\n",
    "    model = Sequential([\n",
    "\n",
    "        Conv2D(32, (3, 3), activation='relu', padding='same', input_shape=(x_images.shape[1], x_images.shape[2], x_images.shape[3])),\n",
    "        BatchNormalization(),\n",
    "        MaxPooling2D(pool_size=(2, 2)),\n",
    "        Dropout(dropout_rate),\n",
    "\n",
    "        Conv2D(64, (3, 3), activation='relu', padding='same'),\n",
    "        BatchNormalization(),\n",
    "        MaxPooling2D(pool_size=(2, 2)),\n",
    "        Dropout(dropout_rate),\n",
    "\n",
    "        Conv2D(128, (3, 3), activation='relu', padding='same'),\n",
    "        BatchNormalization(),\n",
    "        MaxPooling2D(pool_size=(2, 2)),\n",
    "        Dropout(dropout_rate),\n",
    "\n",
    "        Conv2D(128, (3, 3), activation='relu', padding='same'),\n",
    "        BatchNormalization(),\n",
    "        MaxPooling2D(pool_size=(2, 2)),\n",
    "        Dropout(dropout_rate),\n",
    "\n",
    "        Flatten(),\n",
    "        Dense(128, activation='relu'),\n",
    "        BatchNormalization(),\n",
    "        Dropout(dropout_rate),\n",
    "    ])\n",
    "\n",
    "    # Ajout de la couche de sortie en fonction du type de classification\n",
    "    if multiclass:\n",
    "        model.add(Dense(num_classes, activation='softmax'))\n",
    "        loss_fn = 'categorical_crossentropy'\n",
    "    else:\n",
    "        model.add(Dense(1, activation='sigmoid'))\n",
    "        loss_fn = 'binary_crossentropy'\n",
    "\n",
    "    # Choix de l'optimiseur\n",
    "    if optimizer_name.lower() == \"adam\":\n",
    "        optimizer = tf.keras.optimizers.Adam(learning_rate=lr)\n",
    "    elif optimizer_name.lower() == \"rmsprop\":\n",
    "        optimizer = tf.keras.optimizers.RMSprop(learning_rate=lr)\n",
    "    else:\n",
    "        raise ValueError(\"Optimizer non supporté\")\n",
    "\n",
    "    # Compilation du modèle\n",
    "    model.compile(optimizer=optimizer, loss=loss_fn, metrics=['accuracy', Recall()])\n",
    "\n",
    "    return model"
   ]
  },
  {
   "cell_type": "code",
   "execution_count": null,
   "id": "2a6aa513",
   "metadata": {},
   "outputs": [],
   "source": [
    "def build_model_unet(dropout_rate=0.1, lr=1e-4, optimizer_name=\"adam\"):\n",
    "    inputs = Input(shape=(x_images.shape[1], x_images.shape[2], x_images.shape[3]))\n",
    "\n",
    "    # Encoder\n",
    "    c1 = Conv2D(32, (3, 3), activation='relu', padding='same')(inputs)\n",
    "    c1 = BatchNormalization()(c1)\n",
    "    c1 = Dropout(dropout_rate)(c1)\n",
    "    c1 = Conv2D(32, (3, 3), activation='relu', padding='same')(c1)\n",
    "    p1 = MaxPooling2D((2, 2))(c1)\n",
    "\n",
    "    c2 = Conv2D(64, (3, 3), activation='relu', padding='same')(p1)\n",
    "    c2 = BatchNormalization()(c2)\n",
    "    c2 = Dropout(dropout_rate)(c2)\n",
    "    c2 = Conv2D(64, (3, 3), activation='relu', padding='same')(c2)\n",
    "    p2 = MaxPooling2D((2, 2))(c2)\n",
    "\n",
    "    c3 = Conv2D(128, (3, 3), activation='relu', padding='same')(p2)\n",
    "    c3 = BatchNormalization()(c3)\n",
    "    c3 = Dropout(dropout_rate)(c3)\n",
    "    c3 = Conv2D(128, (3, 3), activation='relu', padding='same')(c3)\n",
    "    p3 = MaxPooling2D((2, 2))(c3)\n",
    "\n",
    "    # Bottleneck\n",
    "    bn = Conv2D(256, (3, 3), activation='relu', padding='same')(p3)\n",
    "    bn = BatchNormalization()(bn)\n",
    "    bn = Dropout(dropout_rate)(bn)\n",
    "    bn = Conv2D(256, (3, 3), activation='relu', padding='same')(bn)\n",
    "\n",
    "    # Option 1 : classification via global pooling\n",
    "    x = GlobalAveragePooling2D()(bn)\n",
    "    x = Dense(128, activation='relu')(x)\n",
    "    x = Dropout(dropout_rate)(x)\n",
    "\n",
    "    if multiclass:\n",
    "        output = Dense(num_classes, activation='softmax')(x)\n",
    "        loss_fn = 'categorical_crosse\n",
    "    else:\n",
    "        output = Dense(1, activation='sigmoid')(x)\n",
    "        loss_fn = 'binary_crossentropy'\n",
    "\n",
    "    model = Model(inputs=inputs, outputs=output)\n",
    "\n",
    "    if optimizer_name.lower() == \"adam\":\n",
    "        optimizer = tf.keras.optimizers.Adam(learning_rate=lr)\n",
    "    elif optimizer_name.lower() == \"rmsprop\":\n",
    "        optimizer = tf.keras.optimizers.RMSprop(learning_rate=lr)\n",
    "    else:\n",
    "        raise ValueError(\"Optimizer non supporté\")\n",
    "\n",
    "    model.compile(optimizer=optimizer, loss=loss_fn, metrics=['accuracy', Recall()])\n",
    "    return model"
   ]
  },
  {
   "cell_type": "code",
   "execution_count": 12,
   "id": "6186098a",
   "metadata": {
    "execution": {
     "iopub.execute_input": "2025-10-21T13:32:38.875623Z",
     "iopub.status.busy": "2025-10-21T13:32:38.875241Z",
     "iopub.status.idle": "2025-10-21T13:32:38.880949Z",
     "shell.execute_reply": "2025-10-21T13:32:38.880233Z"
    },
    "papermill": {
     "duration": 0.011013,
     "end_time": "2025-10-21T13:32:38.881957",
     "exception": false,
     "start_time": "2025-10-21T13:32:38.870944",
     "status": "completed"
    },
    "tags": []
   },
   "outputs": [
    {
     "name": "stdout",
     "output_type": "stream",
     "text": [
      "Poids des classes : {0: 0.8733188720173536, 1: 1.1696687972109239}\n"
     ]
    }
   ],
   "source": [
    "if multiclass:\n",
    "    y_classes = np.argmax(y_data, axis=1)\n",
    "    classes = np.unique(y_classes)\n",
    "else:\n",
    "    y_classes = y_data.astype(int)\n",
    "    classes = np.unique(y_classes)\n",
    "\n",
    "class_weights = compute_class_weight(class_weight='balanced', classes=classes, y=y_classes)\n",
    "class_weight_dict = dict(zip(classes, class_weights))\n",
    "\n",
    "print(\"Poids des classes :\", class_weight_dict)"
   ]
  },
  {
   "cell_type": "markdown",
   "id": "d0948163",
   "metadata": {
    "papermill": {
     "duration": 0.003596,
     "end_time": "2025-10-21T13:32:38.889450",
     "exception": false,
     "start_time": "2025-10-21T13:32:38.885854",
     "status": "completed"
    },
    "tags": []
   },
   "source": [
    "## Entrainement sur grille"
   ]
  },
  {
   "cell_type": "code",
   "execution_count": 13,
   "id": "8072c75e",
   "metadata": {
    "execution": {
     "iopub.execute_input": "2025-10-21T13:32:38.898011Z",
     "iopub.status.busy": "2025-10-21T13:32:38.897542Z",
     "iopub.status.idle": "2025-10-21T15:40:19.841360Z",
     "shell.execute_reply": "2025-10-21T15:40:19.840525Z"
    },
    "papermill": {
     "duration": 7660.955858,
     "end_time": "2025-10-21T15:40:19.849009",
     "exception": false,
     "start_time": "2025-10-21T13:32:38.893151",
     "status": "completed"
    },
    "tags": []
   },
   "outputs": [
    {
     "name": "stdout",
     "output_type": "stream",
     "text": [
      "\n",
      "=== Testing: dropout=0.1, lr=0.0001, batch_size=16, optimizer=adam ===\n"
     ]
    },
    {
     "name": "stderr",
     "output_type": "stream",
     "text": [
      "/usr/local/lib/python3.11/dist-packages/keras/src/layers/convolutional/base_conv.py:107: UserWarning: Do not pass an `input_shape`/`input_dim` argument to a layer. When using Sequential models, prefer using an `Input(shape)` object as the first layer in the model instead.\n",
      "  super().__init__(activity_regularizer=activity_regularizer, **kwargs)\n",
      "I0000 00:00:1761053560.067434      19 gpu_device.cc:2022] Created device /job:localhost/replica:0/task:0/device:GPU:0 with 15513 MB memory:  -> device: 0, name: Tesla P100-PCIE-16GB, pci bus id: 0000:00:04.0, compute capability: 6.0\n",
      "WARNING: All log messages before absl::InitializeLog() is called are written to STDERR\n",
      "I0000 00:00:1761053568.253748      60 service.cc:148] XLA service 0x7cb7d40041f0 initialized for platform CUDA (this does not guarantee that XLA will be used). Devices:\n",
      "I0000 00:00:1761053568.254461      60 service.cc:156]   StreamExecutor device (0): Tesla P100-PCIE-16GB, Compute Capability 6.0\n",
      "I0000 00:00:1761053568.869257      60 cuda_dnn.cc:529] Loaded cuDNN version 90300\n",
      "I0000 00:00:1761053575.507657      60 device_compiler.h:188] Compiled cluster using XLA!  This line is logged at most once for the lifetime of the process.\n"
     ]
    },
    {
     "name": "stdout",
     "output_type": "stream",
     "text": [
      " -> val_acc=0.6004, val_loss=0.7274, epochs=16.0000\n",
      "\n",
      "=== Testing: dropout=0.1, lr=0.0001, batch_size=16, optimizer=adam ===\n"
     ]
    },
    {
     "name": "stderr",
     "output_type": "stream",
     "text": [
      "/usr/local/lib/python3.11/dist-packages/keras/src/trainers/data_adapters/py_dataset_adapter.py:121: UserWarning: Your `PyDataset` class should call `super().__init__(**kwargs)` in its constructor. `**kwargs` can include `workers`, `use_multiprocessing`, `max_queue_size`. Do not pass these arguments to `fit()`, as they will be ignored.\n",
      "  self._warn_if_super_not_called()\n"
     ]
    },
    {
     "name": "stdout",
     "output_type": "stream",
     "text": [
      " -> val_acc=0.6025, val_loss=0.6722, epochs=16.0000\n",
      "\n",
      "=== Testing: dropout=0.1, lr=0.0001, batch_size=16, optimizer=rmsprop ===\n",
      " -> val_acc=0.6087, val_loss=0.7274, epochs=17.0000\n",
      "\n",
      "=== Testing: dropout=0.1, lr=0.0001, batch_size=16, optimizer=rmsprop ===\n",
      " -> val_acc=0.5859, val_loss=0.7054, epochs=18.0000\n",
      "\n",
      "=== Testing: dropout=0.1, lr=0.0001, batch_size=32, optimizer=adam ===\n",
      " -> val_acc=0.5859, val_loss=0.7410, epochs=16.0000\n",
      "\n",
      "=== Testing: dropout=0.1, lr=0.0001, batch_size=32, optimizer=adam ===\n",
      " -> val_acc=0.5776, val_loss=0.6995, epochs=31.0000\n",
      "\n",
      "=== Testing: dropout=0.1, lr=0.0001, batch_size=32, optimizer=rmsprop ===\n",
      " -> val_acc=0.5797, val_loss=0.6849, epochs=12.0000\n",
      "\n",
      "=== Testing: dropout=0.1, lr=0.0001, batch_size=32, optimizer=rmsprop ===\n",
      " -> val_acc=0.5839, val_loss=0.7147, epochs=11.0000\n",
      "\n",
      "=== Testing: dropout=0.1, lr=0.0005, batch_size=16, optimizer=adam ===\n",
      " -> val_acc=0.5818, val_loss=0.6810, epochs=13.0000\n",
      "\n",
      "=== Testing: dropout=0.1, lr=0.0005, batch_size=16, optimizer=adam ===\n",
      " -> val_acc=0.5756, val_loss=0.6659, epochs=18.0000\n",
      "\n",
      "=== Testing: dropout=0.1, lr=0.0005, batch_size=16, optimizer=rmsprop ===\n",
      " -> val_acc=0.6066, val_loss=0.6890, epochs=17.0000\n",
      "\n",
      "=== Testing: dropout=0.1, lr=0.0005, batch_size=16, optimizer=rmsprop ===\n",
      " -> val_acc=0.6025, val_loss=0.6549, epochs=30.0000\n",
      "\n",
      "=== Testing: dropout=0.1, lr=0.0005, batch_size=32, optimizer=adam ===\n",
      " -> val_acc=0.5839, val_loss=0.6882, epochs=15.0000\n",
      "\n",
      "=== Testing: dropout=0.1, lr=0.0005, batch_size=32, optimizer=adam ===\n",
      " -> val_acc=0.5942, val_loss=0.6712, epochs=34.0000\n",
      "\n",
      "=== Testing: dropout=0.1, lr=0.0005, batch_size=32, optimizer=rmsprop ===\n",
      " -> val_acc=0.5983, val_loss=0.6846, epochs=13.0000\n",
      "\n",
      "=== Testing: dropout=0.1, lr=0.0005, batch_size=32, optimizer=rmsprop ===\n",
      " -> val_acc=0.6004, val_loss=0.6616, epochs=25.0000\n",
      "\n",
      "=== Testing: dropout=0.1, lr=1e-05, batch_size=16, optimizer=adam ===\n",
      " -> val_acc=0.5921, val_loss=0.6826, epochs=12.0000\n",
      "\n",
      "=== Testing: dropout=0.1, lr=1e-05, batch_size=16, optimizer=adam ===\n",
      " -> val_acc=0.5797, val_loss=0.6898, epochs=11.0000\n",
      "\n",
      "=== Testing: dropout=0.1, lr=1e-05, batch_size=16, optimizer=rmsprop ===\n",
      " -> val_acc=0.5921, val_loss=0.8017, epochs=11.0000\n",
      "\n",
      "=== Testing: dropout=0.1, lr=1e-05, batch_size=16, optimizer=rmsprop ===\n",
      " -> val_acc=0.5880, val_loss=0.7320, epochs=11.0000\n",
      "\n",
      "=== Testing: dropout=0.1, lr=1e-05, batch_size=32, optimizer=adam ===\n",
      " -> val_acc=0.5735, val_loss=0.6997, epochs=15.0000\n",
      "\n",
      "=== Testing: dropout=0.1, lr=1e-05, batch_size=32, optimizer=adam ===\n",
      " -> val_acc=0.5735, val_loss=0.6825, epochs=12.0000\n",
      "\n",
      "=== Testing: dropout=0.1, lr=1e-05, batch_size=32, optimizer=rmsprop ===\n",
      " -> val_acc=0.4658, val_loss=0.7185, epochs=11.0000\n",
      "\n",
      "=== Testing: dropout=0.1, lr=1e-05, batch_size=32, optimizer=rmsprop ===\n",
      " -> val_acc=0.5735, val_loss=0.6847, epochs=12.0000\n",
      "\n",
      "=== Testing: dropout=0.2, lr=0.0001, batch_size=16, optimizer=adam ===\n",
      " -> val_acc=0.6066, val_loss=0.7552, epochs=24.0000\n",
      "\n",
      "=== Testing: dropout=0.2, lr=0.0001, batch_size=16, optimizer=adam ===\n",
      " -> val_acc=0.5983, val_loss=0.6995, epochs=35.0000\n",
      "\n",
      "=== Testing: dropout=0.2, lr=0.0001, batch_size=16, optimizer=rmsprop ===\n",
      " -> val_acc=0.5880, val_loss=0.7566, epochs=19.0000\n",
      "\n",
      "=== Testing: dropout=0.2, lr=0.0001, batch_size=16, optimizer=rmsprop ===\n",
      " -> val_acc=0.5735, val_loss=0.7607, epochs=27.0000\n",
      "\n",
      "=== Testing: dropout=0.2, lr=0.0001, batch_size=32, optimizer=adam ===\n",
      " -> val_acc=0.5735, val_loss=0.6816, epochs=11.0000\n",
      "\n",
      "=== Testing: dropout=0.2, lr=0.0001, batch_size=32, optimizer=adam ===\n",
      " -> val_acc=0.5735, val_loss=0.7379, epochs=12.0000\n",
      "\n",
      "=== Testing: dropout=0.2, lr=0.0001, batch_size=32, optimizer=rmsprop ===\n",
      " -> val_acc=0.4431, val_loss=0.7768, epochs=11.0000\n",
      "\n",
      "=== Testing: dropout=0.2, lr=0.0001, batch_size=32, optimizer=rmsprop ===\n",
      " -> val_acc=0.4907, val_loss=0.7101, epochs=11.0000\n",
      "\n",
      "=== Testing: dropout=0.2, lr=0.0005, batch_size=16, optimizer=adam ===\n",
      " -> val_acc=0.6128, val_loss=0.6786, epochs=31.0000\n",
      "\n",
      "=== Testing: dropout=0.2, lr=0.0005, batch_size=16, optimizer=adam ===\n",
      " -> val_acc=0.6046, val_loss=0.6657, epochs=20.0000\n",
      "\n",
      "=== Testing: dropout=0.2, lr=0.0005, batch_size=16, optimizer=rmsprop ===\n",
      " -> val_acc=0.6253, val_loss=0.6892, epochs=14.0000\n",
      "\n",
      "=== Testing: dropout=0.2, lr=0.0005, batch_size=16, optimizer=rmsprop ===\n",
      " -> val_acc=0.6025, val_loss=0.6700, epochs=24.0000\n",
      "\n",
      "=== Testing: dropout=0.2, lr=0.0005, batch_size=32, optimizer=adam ===\n",
      " -> val_acc=0.6087, val_loss=0.7006, epochs=16.0000\n",
      "\n",
      "=== Testing: dropout=0.2, lr=0.0005, batch_size=32, optimizer=adam ===\n",
      " -> val_acc=0.6025, val_loss=0.6699, epochs=26.0000\n",
      "\n",
      "=== Testing: dropout=0.2, lr=0.0005, batch_size=32, optimizer=rmsprop ===\n",
      " -> val_acc=0.6087, val_loss=0.6791, epochs=18.0000\n",
      "\n",
      "=== Testing: dropout=0.2, lr=0.0005, batch_size=32, optimizer=rmsprop ===\n",
      " -> val_acc=0.5921, val_loss=0.6680, epochs=20.0000\n",
      "\n",
      "=== Testing: dropout=0.2, lr=1e-05, batch_size=16, optimizer=adam ===\n",
      " -> val_acc=0.5528, val_loss=0.6921, epochs=11.0000\n",
      "\n",
      "=== Testing: dropout=0.2, lr=1e-05, batch_size=16, optimizer=adam ===\n",
      " -> val_acc=0.5839, val_loss=0.6848, epochs=11.0000\n",
      "\n",
      "=== Testing: dropout=0.2, lr=1e-05, batch_size=16, optimizer=rmsprop ===\n",
      " -> val_acc=0.5756, val_loss=0.6791, epochs=12.0000\n",
      "\n",
      "=== Testing: dropout=0.2, lr=1e-05, batch_size=16, optimizer=rmsprop ===\n",
      " -> val_acc=0.4327, val_loss=0.8582, epochs=11.0000\n",
      "\n",
      "=== Testing: dropout=0.2, lr=1e-05, batch_size=32, optimizer=adam ===\n",
      " -> val_acc=0.5735, val_loss=0.7010, epochs=12.0000\n",
      "\n",
      "=== Testing: dropout=0.2, lr=1e-05, batch_size=32, optimizer=adam ===\n",
      " -> val_acc=0.5342, val_loss=0.6919, epochs=12.0000\n",
      "\n",
      "=== Testing: dropout=0.2, lr=1e-05, batch_size=32, optimizer=rmsprop ===\n",
      " -> val_acc=0.5259, val_loss=0.7048, epochs=15.0000\n",
      "\n",
      "=== Testing: dropout=0.2, lr=1e-05, batch_size=32, optimizer=rmsprop ===\n",
      " -> val_acc=0.4576, val_loss=0.7130, epochs=11.0000\n",
      "\n",
      "=== Testing: dropout=0.3, lr=0.0001, batch_size=16, optimizer=adam ===\n",
      " -> val_acc=0.6046, val_loss=0.6837, epochs=12.0000\n",
      "\n",
      "=== Testing: dropout=0.3, lr=0.0001, batch_size=16, optimizer=adam ===\n",
      " -> val_acc=0.5280, val_loss=1.6760, epochs=11.0000\n",
      "\n",
      "=== Testing: dropout=0.3, lr=0.0001, batch_size=16, optimizer=rmsprop ===\n",
      " -> val_acc=0.5776, val_loss=0.6859, epochs=11.0000\n",
      "\n",
      "=== Testing: dropout=0.3, lr=0.0001, batch_size=16, optimizer=rmsprop ===\n",
      " -> val_acc=0.5880, val_loss=0.8045, epochs=26.0000\n",
      "\n",
      "=== Testing: dropout=0.3, lr=0.0001, batch_size=32, optimizer=adam ===\n",
      " -> val_acc=0.4969, val_loss=0.8018, epochs=12.0000\n",
      "\n",
      "=== Testing: dropout=0.3, lr=0.0001, batch_size=32, optimizer=adam ===\n",
      " -> val_acc=0.4493, val_loss=1.9888, epochs=11.0000\n",
      "\n",
      "=== Testing: dropout=0.3, lr=0.0001, batch_size=32, optimizer=rmsprop ===\n",
      " -> val_acc=0.5507, val_loss=0.6853, epochs=12.0000\n",
      "\n",
      "=== Testing: dropout=0.3, lr=0.0001, batch_size=32, optimizer=rmsprop ===\n",
      " -> val_acc=0.4265, val_loss=2.5731, epochs=11.0000\n",
      "\n",
      "=== Testing: dropout=0.3, lr=0.0005, batch_size=16, optimizer=adam ===\n",
      " -> val_acc=0.5631, val_loss=0.7022, epochs=12.0000\n",
      "\n",
      "=== Testing: dropout=0.3, lr=0.0005, batch_size=16, optimizer=adam ===\n",
      " -> val_acc=0.6025, val_loss=0.6580, epochs=41.0000\n",
      "\n",
      "=== Testing: dropout=0.3, lr=0.0005, batch_size=16, optimizer=rmsprop ===\n",
      " -> val_acc=0.5963, val_loss=0.6928, epochs=20.0000\n",
      "\n",
      "=== Testing: dropout=0.3, lr=0.0005, batch_size=16, optimizer=rmsprop ===\n",
      " -> val_acc=0.5880, val_loss=0.6824, epochs=12.0000\n",
      "\n",
      "=== Testing: dropout=0.3, lr=0.0005, batch_size=32, optimizer=adam ===\n",
      " -> val_acc=0.6087, val_loss=0.6954, epochs=31.0000\n",
      "\n",
      "=== Testing: dropout=0.3, lr=0.0005, batch_size=32, optimizer=adam ===\n",
      " -> val_acc=0.5797, val_loss=0.7404, epochs=16.0000\n",
      "\n",
      "=== Testing: dropout=0.3, lr=0.0005, batch_size=32, optimizer=rmsprop ===\n",
      " -> val_acc=0.6108, val_loss=0.6960, epochs=21.0000\n",
      "\n",
      "=== Testing: dropout=0.3, lr=0.0005, batch_size=32, optimizer=rmsprop ===\n",
      " -> val_acc=0.5735, val_loss=0.6821, epochs=12.0000\n",
      "\n",
      "=== Testing: dropout=0.3, lr=1e-05, batch_size=16, optimizer=adam ===\n",
      " -> val_acc=0.5921, val_loss=0.6850, epochs=11.0000\n",
      "\n",
      "=== Testing: dropout=0.3, lr=1e-05, batch_size=16, optimizer=adam ===\n",
      " -> val_acc=0.5776, val_loss=0.7700, epochs=11.0000\n",
      "\n",
      "=== Testing: dropout=0.3, lr=1e-05, batch_size=16, optimizer=rmsprop ===\n",
      " -> val_acc=0.4803, val_loss=0.7227, epochs=12.0000\n",
      "\n",
      "=== Testing: dropout=0.3, lr=1e-05, batch_size=16, optimizer=rmsprop ===\n",
      " -> val_acc=0.4265, val_loss=0.8194, epochs=11.0000\n",
      "\n",
      "=== Testing: dropout=0.3, lr=1e-05, batch_size=32, optimizer=adam ===\n",
      " -> val_acc=0.5818, val_loss=0.6824, epochs=14.0000\n",
      "\n",
      "=== Testing: dropout=0.3, lr=1e-05, batch_size=32, optimizer=adam ===\n",
      " -> val_acc=0.4265, val_loss=0.7287, epochs=11.0000\n",
      "\n",
      "=== Testing: dropout=0.3, lr=1e-05, batch_size=32, optimizer=rmsprop ===\n",
      " -> val_acc=0.5756, val_loss=0.6834, epochs=15.0000\n",
      "\n",
      "=== Testing: dropout=0.3, lr=1e-05, batch_size=32, optimizer=rmsprop ===\n",
      " -> val_acc=0.4265, val_loss=0.7490, epochs=11.0000\n",
      "\n",
      "=== Best Parameters ===\n",
      "dropout                   0.2\n",
      "lr                     0.0005\n",
      "batch_size                 16\n",
      "optimizer             rmsprop\n",
      "val_acc              0.625259\n",
      "data_augmentation       False\n",
      "val_loss             0.689238\n",
      "val_recall           0.932039\n",
      "epochs                     14\n",
      "Name: 34, dtype: object\n"
     ]
    }
   ],
   "source": [
    "results = []\n",
    "\n",
    "for dropout, lr, batch_size, optimizer_name, data_augmentation in product(dropouts, learning_rates, batch_sizes, optimizers, data_augmentation_list):\n",
    "    print(f\"\\n=== Testing: dropout={dropout}, lr={lr}, batch_size={batch_size}, optimizer={optimizer_name} ===\")\n",
    "    \n",
    "    tf.keras.backend.clear_session()\n",
    "    gc.collect()\n",
    "    \n",
    "    model = build_model(dropout_rate=dropout, lr=lr, optimizer_name=optimizer_name)\n",
    "    \n",
    "    early_stop = EarlyStopping(monitor='val_loss', patience=patience, restore_best_weights=True, verbose=0)\n",
    "    \n",
    "    if data_augmentation:\n",
    "        try:\n",
    "            history = model.fit(\n",
    "                    datagen.flow(x_train, y_train, batch_size=batch_size),\n",
    "                    validation_data=(x_val, y_val),\n",
    "                    epochs=epochs,\n",
    "                    callbacks=[early_stop],\n",
    "                    class_weight=class_weight_dict,\n",
    "                    verbose=0\n",
    "                )\n",
    "        except tf.errors.ResourceExhaustedError as e:\n",
    "            print(f\"OOM error with config: dropout={dropout}, lr={lr}, batch_size={batch_size}, optimizer={optimizer_name}, aug={data_augmentation}\")\n",
    "            continue\n",
    "\n",
    "    else:\n",
    "        try:\n",
    "            history = model.fit(\n",
    "            x_train, y_train,\n",
    "            validation_data=(x_val, y_val),\n",
    "            batch_size=batch_size,\n",
    "            epochs=epochs,\n",
    "            callbacks=[early_stop],\n",
    "            class_weight=class_weight_dict,\n",
    "            verbose=0\n",
    "        )\n",
    "        except tf.errors.ResourceExhaustedError as e:\n",
    "            print(f\"OOM error with config: dropout={dropout}, lr={lr}, batch_size={batch_size}, optimizer={optimizer_name}, aug={data_augmentation}\")\n",
    "            continue\n",
    "        \n",
    "    \n",
    "    val_acc = max(history.history['val_accuracy'])\n",
    "    val_loss = min(history.history['val_loss'])\n",
    "    val_recall = max(history.history['val_recall'])\n",
    "    epochs_ran = len(history.history['loss'])\n",
    "    \n",
    "    results.append({\n",
    "        \"dropout\": dropout,\n",
    "        \"lr\": lr,\n",
    "        \"batch_size\": batch_size,\n",
    "        \"optimizer\": optimizer_name,\n",
    "        \"val_acc\": val_acc,\n",
    "        \"data_augmentation\" : data_augmentation,\n",
    "        \"val_loss\": val_loss,\n",
    "        \"val_recall\": val_recall,\n",
    "        \"epochs\": epochs_ran\n",
    "    })\n",
    "    print(f\" -> val_acc={val_acc:.4f}, val_loss={val_loss:.4f}, epochs={epochs_ran:.4f}\")\n",
    "\n",
    "df_results = pd.DataFrame(results).sort_values(by=\"val_acc\", ascending=False)\n",
    "best_params = df_results.iloc[0]\n",
    "print(\"\\n=== Best Parameters ===\")\n",
    "print(best_params)"
   ]
  },
  {
   "cell_type": "markdown",
   "id": "135f3c4b",
   "metadata": {
    "papermill": {
     "duration": 0.006503,
     "end_time": "2025-10-21T15:40:19.862336",
     "exception": false,
     "start_time": "2025-10-21T15:40:19.855833",
     "status": "completed"
    },
    "tags": []
   },
   "source": [
    "## Entrainement meilleur modele"
   ]
  },
  {
   "cell_type": "code",
   "execution_count": 14,
   "id": "f31447f5",
   "metadata": {
    "execution": {
     "iopub.execute_input": "2025-10-21T15:40:19.877089Z",
     "iopub.status.busy": "2025-10-21T15:40:19.876527Z",
     "iopub.status.idle": "2025-10-21T15:41:24.339739Z",
     "shell.execute_reply": "2025-10-21T15:41:24.339142Z"
    },
    "papermill": {
     "duration": 64.471866,
     "end_time": "2025-10-21T15:41:24.341073",
     "exception": false,
     "start_time": "2025-10-21T15:40:19.869207",
     "status": "completed"
    },
    "tags": []
   },
   "outputs": [
    {
     "name": "stdout",
     "output_type": "stream",
     "text": [
      "Epoch 1/14\n",
      "\u001b[1m151/151\u001b[0m \u001b[32m━━━━━━━━━━━━━━━━━━━━\u001b[0m\u001b[37m\u001b[0m \u001b[1m16s\u001b[0m 59ms/step - accuracy: 0.5071 - loss: 0.8848 - recall: 0.4848\n",
      "Epoch 2/14\n",
      "\u001b[1m151/151\u001b[0m \u001b[32m━━━━━━━━━━━━━━━━━━━━\u001b[0m\u001b[37m\u001b[0m \u001b[1m3s\u001b[0m 21ms/step - accuracy: 0.5610 - loss: 0.7662 - recall: 0.5788\n",
      "Epoch 3/14\n",
      "\u001b[1m151/151\u001b[0m \u001b[32m━━━━━━━━━━━━━━━━━━━━\u001b[0m\u001b[37m\u001b[0m \u001b[1m3s\u001b[0m 21ms/step - accuracy: 0.5734 - loss: 0.7241 - recall: 0.5382\n",
      "Epoch 4/14\n",
      "\u001b[1m151/151\u001b[0m \u001b[32m━━━━━━━━━━━━━━━━━━━━\u001b[0m\u001b[37m\u001b[0m \u001b[1m3s\u001b[0m 21ms/step - accuracy: 0.5794 - loss: 0.7210 - recall: 0.5821\n",
      "Epoch 5/14\n",
      "\u001b[1m151/151\u001b[0m \u001b[32m━━━━━━━━━━━━━━━━━━━━\u001b[0m\u001b[37m\u001b[0m \u001b[1m3s\u001b[0m 21ms/step - accuracy: 0.5836 - loss: 0.7001 - recall: 0.5692\n",
      "Epoch 6/14\n",
      "\u001b[1m151/151\u001b[0m \u001b[32m━━━━━━━━━━━━━━━━━━━━\u001b[0m\u001b[37m\u001b[0m \u001b[1m3s\u001b[0m 21ms/step - accuracy: 0.6104 - loss: 0.6867 - recall: 0.5889\n",
      "Epoch 7/14\n",
      "\u001b[1m151/151\u001b[0m \u001b[32m━━━━━━━━━━━━━━━━━━━━\u001b[0m\u001b[37m\u001b[0m \u001b[1m3s\u001b[0m 21ms/step - accuracy: 0.6265 - loss: 0.6534 - recall: 0.6169\n",
      "Epoch 8/14\n",
      "\u001b[1m151/151\u001b[0m \u001b[32m━━━━━━━━━━━━━━━━━━━━\u001b[0m\u001b[37m\u001b[0m \u001b[1m3s\u001b[0m 21ms/step - accuracy: 0.6398 - loss: 0.6749 - recall: 0.6357\n",
      "Epoch 9/14\n",
      "\u001b[1m151/151\u001b[0m \u001b[32m━━━━━━━━━━━━━━━━━━━━\u001b[0m\u001b[37m\u001b[0m \u001b[1m3s\u001b[0m 21ms/step - accuracy: 0.6711 - loss: 0.6102 - recall: 0.6702\n",
      "Epoch 10/14\n",
      "\u001b[1m151/151\u001b[0m \u001b[32m━━━━━━━━━━━━━━━━━━━━\u001b[0m\u001b[37m\u001b[0m \u001b[1m3s\u001b[0m 21ms/step - accuracy: 0.6842 - loss: 0.5953 - recall: 0.6616\n",
      "Epoch 11/14\n",
      "\u001b[1m151/151\u001b[0m \u001b[32m━━━━━━━━━━━━━━━━━━━━\u001b[0m\u001b[37m\u001b[0m \u001b[1m3s\u001b[0m 21ms/step - accuracy: 0.7236 - loss: 0.5431 - recall: 0.7481\n",
      "Epoch 12/14\n",
      "\u001b[1m151/151\u001b[0m \u001b[32m━━━━━━━━━━━━━━━━━━━━\u001b[0m\u001b[37m\u001b[0m \u001b[1m3s\u001b[0m 21ms/step - accuracy: 0.7167 - loss: 0.5475 - recall: 0.7295\n",
      "Epoch 13/14\n",
      "\u001b[1m151/151\u001b[0m \u001b[32m━━━━━━━━━━━━━━━━━━━━\u001b[0m\u001b[37m\u001b[0m \u001b[1m3s\u001b[0m 21ms/step - accuracy: 0.7662 - loss: 0.4896 - recall: 0.8040\n",
      "Epoch 14/14\n",
      "\u001b[1m151/151\u001b[0m \u001b[32m━━━━━━━━━━━━━━━━━━━━\u001b[0m\u001b[37m\u001b[0m \u001b[1m3s\u001b[0m 21ms/step - accuracy: 0.7578 - loss: 0.4935 - recall: 0.7586\n"
     ]
    }
   ],
   "source": [
    "tf.keras.backend.clear_session()\n",
    "gc.collect()\n",
    "\n",
    "model = build_model(dropout_rate=best_params['dropout'], lr=best_params['lr'], optimizer_name=best_params['optimizer'])\n",
    "early_stop = EarlyStopping(monitor='loss', patience=3*patience, restore_best_weights=True, verbose=1)\n",
    "\n",
    "if best_params['data_augmentation']:\n",
    "    history = model.fit(\n",
    "        datagen.flow(np.concatenate([x_train, x_val]), np.concatenate([y_train, y_val]), batch_size=int(best_params['batch_size'])),\n",
    "        epochs=best_params['epochs'],\n",
    "     #   callbacks=[early_stop],\n",
    "        class_weight=class_weight_dict,\n",
    "        verbose=1\n",
    "    )\n",
    "else:\n",
    "    history = model.fit(\n",
    "        np.concatenate([x_train, x_val]), np.concatenate([y_train, y_val]),\n",
    "        batch_size=int(best_params['batch_size']),\n",
    "        epochs=best_params['epochs'],\n",
    "      #  callbacks=[early_stop],\n",
    "        class_weight=class_weight_dict,\n",
    "        verbose=1\n",
    "    )"
   ]
  },
  {
   "cell_type": "code",
   "execution_count": 15,
   "id": "0f5da984",
   "metadata": {
    "execution": {
     "iopub.execute_input": "2025-10-21T15:41:24.414882Z",
     "iopub.status.busy": "2025-10-21T15:41:24.414303Z",
     "iopub.status.idle": "2025-10-21T15:41:24.437943Z",
     "shell.execute_reply": "2025-10-21T15:41:24.437373Z"
    },
    "papermill": {
     "duration": 0.06063,
     "end_time": "2025-10-21T15:41:24.438974",
     "exception": false,
     "start_time": "2025-10-21T15:41:24.378344",
     "status": "completed"
    },
    "tags": []
   },
   "outputs": [
    {
     "data": {
      "text/html": [
       "<pre style=\"white-space:pre;overflow-x:auto;line-height:normal;font-family:Menlo,'DejaVu Sans Mono',consolas,'Courier New',monospace\"><span style=\"font-weight: bold\">Model: \"sequential\"</span>\n",
       "</pre>\n"
      ],
      "text/plain": [
       "\u001b[1mModel: \"sequential\"\u001b[0m\n"
      ]
     },
     "metadata": {},
     "output_type": "display_data"
    },
    {
     "data": {
      "text/html": [
       "<pre style=\"white-space:pre;overflow-x:auto;line-height:normal;font-family:Menlo,'DejaVu Sans Mono',consolas,'Courier New',monospace\">┏━━━━━━━━━━━━━━━━━━━━━━━━━━━━━━━━━┳━━━━━━━━━━━━━━━━━━━━━━━━┳━━━━━━━━━━━━━━━┓\n",
       "┃<span style=\"font-weight: bold\"> Layer (type)                    </span>┃<span style=\"font-weight: bold\"> Output Shape           </span>┃<span style=\"font-weight: bold\">       Param # </span>┃\n",
       "┡━━━━━━━━━━━━━━━━━━━━━━━━━━━━━━━━━╇━━━━━━━━━━━━━━━━━━━━━━━━╇━━━━━━━━━━━━━━━┩\n",
       "│ conv2d (<span style=\"color: #0087ff; text-decoration-color: #0087ff\">Conv2D</span>)                 │ (<span style=\"color: #00d7ff; text-decoration-color: #00d7ff\">None</span>, <span style=\"color: #00af00; text-decoration-color: #00af00\">256</span>, <span style=\"color: #00af00; text-decoration-color: #00af00\">256</span>, <span style=\"color: #00af00; text-decoration-color: #00af00\">32</span>)   │           <span style=\"color: #00af00; text-decoration-color: #00af00\">320</span> │\n",
       "├─────────────────────────────────┼────────────────────────┼───────────────┤\n",
       "│ batch_normalization             │ (<span style=\"color: #00d7ff; text-decoration-color: #00d7ff\">None</span>, <span style=\"color: #00af00; text-decoration-color: #00af00\">256</span>, <span style=\"color: #00af00; text-decoration-color: #00af00\">256</span>, <span style=\"color: #00af00; text-decoration-color: #00af00\">32</span>)   │           <span style=\"color: #00af00; text-decoration-color: #00af00\">128</span> │\n",
       "│ (<span style=\"color: #0087ff; text-decoration-color: #0087ff\">BatchNormalization</span>)            │                        │               │\n",
       "├─────────────────────────────────┼────────────────────────┼───────────────┤\n",
       "│ max_pooling2d (<span style=\"color: #0087ff; text-decoration-color: #0087ff\">MaxPooling2D</span>)    │ (<span style=\"color: #00d7ff; text-decoration-color: #00d7ff\">None</span>, <span style=\"color: #00af00; text-decoration-color: #00af00\">128</span>, <span style=\"color: #00af00; text-decoration-color: #00af00\">128</span>, <span style=\"color: #00af00; text-decoration-color: #00af00\">32</span>)   │             <span style=\"color: #00af00; text-decoration-color: #00af00\">0</span> │\n",
       "├─────────────────────────────────┼────────────────────────┼───────────────┤\n",
       "│ dropout (<span style=\"color: #0087ff; text-decoration-color: #0087ff\">Dropout</span>)               │ (<span style=\"color: #00d7ff; text-decoration-color: #00d7ff\">None</span>, <span style=\"color: #00af00; text-decoration-color: #00af00\">128</span>, <span style=\"color: #00af00; text-decoration-color: #00af00\">128</span>, <span style=\"color: #00af00; text-decoration-color: #00af00\">32</span>)   │             <span style=\"color: #00af00; text-decoration-color: #00af00\">0</span> │\n",
       "├─────────────────────────────────┼────────────────────────┼───────────────┤\n",
       "│ conv2d_1 (<span style=\"color: #0087ff; text-decoration-color: #0087ff\">Conv2D</span>)               │ (<span style=\"color: #00d7ff; text-decoration-color: #00d7ff\">None</span>, <span style=\"color: #00af00; text-decoration-color: #00af00\">128</span>, <span style=\"color: #00af00; text-decoration-color: #00af00\">128</span>, <span style=\"color: #00af00; text-decoration-color: #00af00\">64</span>)   │        <span style=\"color: #00af00; text-decoration-color: #00af00\">18,496</span> │\n",
       "├─────────────────────────────────┼────────────────────────┼───────────────┤\n",
       "│ batch_normalization_1           │ (<span style=\"color: #00d7ff; text-decoration-color: #00d7ff\">None</span>, <span style=\"color: #00af00; text-decoration-color: #00af00\">128</span>, <span style=\"color: #00af00; text-decoration-color: #00af00\">128</span>, <span style=\"color: #00af00; text-decoration-color: #00af00\">64</span>)   │           <span style=\"color: #00af00; text-decoration-color: #00af00\">256</span> │\n",
       "│ (<span style=\"color: #0087ff; text-decoration-color: #0087ff\">BatchNormalization</span>)            │                        │               │\n",
       "├─────────────────────────────────┼────────────────────────┼───────────────┤\n",
       "│ max_pooling2d_1 (<span style=\"color: #0087ff; text-decoration-color: #0087ff\">MaxPooling2D</span>)  │ (<span style=\"color: #00d7ff; text-decoration-color: #00d7ff\">None</span>, <span style=\"color: #00af00; text-decoration-color: #00af00\">64</span>, <span style=\"color: #00af00; text-decoration-color: #00af00\">64</span>, <span style=\"color: #00af00; text-decoration-color: #00af00\">64</span>)     │             <span style=\"color: #00af00; text-decoration-color: #00af00\">0</span> │\n",
       "├─────────────────────────────────┼────────────────────────┼───────────────┤\n",
       "│ dropout_1 (<span style=\"color: #0087ff; text-decoration-color: #0087ff\">Dropout</span>)             │ (<span style=\"color: #00d7ff; text-decoration-color: #00d7ff\">None</span>, <span style=\"color: #00af00; text-decoration-color: #00af00\">64</span>, <span style=\"color: #00af00; text-decoration-color: #00af00\">64</span>, <span style=\"color: #00af00; text-decoration-color: #00af00\">64</span>)     │             <span style=\"color: #00af00; text-decoration-color: #00af00\">0</span> │\n",
       "├─────────────────────────────────┼────────────────────────┼───────────────┤\n",
       "│ conv2d_2 (<span style=\"color: #0087ff; text-decoration-color: #0087ff\">Conv2D</span>)               │ (<span style=\"color: #00d7ff; text-decoration-color: #00d7ff\">None</span>, <span style=\"color: #00af00; text-decoration-color: #00af00\">64</span>, <span style=\"color: #00af00; text-decoration-color: #00af00\">64</span>, <span style=\"color: #00af00; text-decoration-color: #00af00\">128</span>)    │        <span style=\"color: #00af00; text-decoration-color: #00af00\">73,856</span> │\n",
       "├─────────────────────────────────┼────────────────────────┼───────────────┤\n",
       "│ batch_normalization_2           │ (<span style=\"color: #00d7ff; text-decoration-color: #00d7ff\">None</span>, <span style=\"color: #00af00; text-decoration-color: #00af00\">64</span>, <span style=\"color: #00af00; text-decoration-color: #00af00\">64</span>, <span style=\"color: #00af00; text-decoration-color: #00af00\">128</span>)    │           <span style=\"color: #00af00; text-decoration-color: #00af00\">512</span> │\n",
       "│ (<span style=\"color: #0087ff; text-decoration-color: #0087ff\">BatchNormalization</span>)            │                        │               │\n",
       "├─────────────────────────────────┼────────────────────────┼───────────────┤\n",
       "│ max_pooling2d_2 (<span style=\"color: #0087ff; text-decoration-color: #0087ff\">MaxPooling2D</span>)  │ (<span style=\"color: #00d7ff; text-decoration-color: #00d7ff\">None</span>, <span style=\"color: #00af00; text-decoration-color: #00af00\">32</span>, <span style=\"color: #00af00; text-decoration-color: #00af00\">32</span>, <span style=\"color: #00af00; text-decoration-color: #00af00\">128</span>)    │             <span style=\"color: #00af00; text-decoration-color: #00af00\">0</span> │\n",
       "├─────────────────────────────────┼────────────────────────┼───────────────┤\n",
       "│ dropout_2 (<span style=\"color: #0087ff; text-decoration-color: #0087ff\">Dropout</span>)             │ (<span style=\"color: #00d7ff; text-decoration-color: #00d7ff\">None</span>, <span style=\"color: #00af00; text-decoration-color: #00af00\">32</span>, <span style=\"color: #00af00; text-decoration-color: #00af00\">32</span>, <span style=\"color: #00af00; text-decoration-color: #00af00\">128</span>)    │             <span style=\"color: #00af00; text-decoration-color: #00af00\">0</span> │\n",
       "├─────────────────────────────────┼────────────────────────┼───────────────┤\n",
       "│ conv2d_3 (<span style=\"color: #0087ff; text-decoration-color: #0087ff\">Conv2D</span>)               │ (<span style=\"color: #00d7ff; text-decoration-color: #00d7ff\">None</span>, <span style=\"color: #00af00; text-decoration-color: #00af00\">32</span>, <span style=\"color: #00af00; text-decoration-color: #00af00\">32</span>, <span style=\"color: #00af00; text-decoration-color: #00af00\">128</span>)    │       <span style=\"color: #00af00; text-decoration-color: #00af00\">147,584</span> │\n",
       "├─────────────────────────────────┼────────────────────────┼───────────────┤\n",
       "│ batch_normalization_3           │ (<span style=\"color: #00d7ff; text-decoration-color: #00d7ff\">None</span>, <span style=\"color: #00af00; text-decoration-color: #00af00\">32</span>, <span style=\"color: #00af00; text-decoration-color: #00af00\">32</span>, <span style=\"color: #00af00; text-decoration-color: #00af00\">128</span>)    │           <span style=\"color: #00af00; text-decoration-color: #00af00\">512</span> │\n",
       "│ (<span style=\"color: #0087ff; text-decoration-color: #0087ff\">BatchNormalization</span>)            │                        │               │\n",
       "├─────────────────────────────────┼────────────────────────┼───────────────┤\n",
       "│ max_pooling2d_3 (<span style=\"color: #0087ff; text-decoration-color: #0087ff\">MaxPooling2D</span>)  │ (<span style=\"color: #00d7ff; text-decoration-color: #00d7ff\">None</span>, <span style=\"color: #00af00; text-decoration-color: #00af00\">16</span>, <span style=\"color: #00af00; text-decoration-color: #00af00\">16</span>, <span style=\"color: #00af00; text-decoration-color: #00af00\">128</span>)    │             <span style=\"color: #00af00; text-decoration-color: #00af00\">0</span> │\n",
       "├─────────────────────────────────┼────────────────────────┼───────────────┤\n",
       "│ dropout_3 (<span style=\"color: #0087ff; text-decoration-color: #0087ff\">Dropout</span>)             │ (<span style=\"color: #00d7ff; text-decoration-color: #00d7ff\">None</span>, <span style=\"color: #00af00; text-decoration-color: #00af00\">16</span>, <span style=\"color: #00af00; text-decoration-color: #00af00\">16</span>, <span style=\"color: #00af00; text-decoration-color: #00af00\">128</span>)    │             <span style=\"color: #00af00; text-decoration-color: #00af00\">0</span> │\n",
       "├─────────────────────────────────┼────────────────────────┼───────────────┤\n",
       "│ flatten (<span style=\"color: #0087ff; text-decoration-color: #0087ff\">Flatten</span>)               │ (<span style=\"color: #00d7ff; text-decoration-color: #00d7ff\">None</span>, <span style=\"color: #00af00; text-decoration-color: #00af00\">32768</span>)          │             <span style=\"color: #00af00; text-decoration-color: #00af00\">0</span> │\n",
       "├─────────────────────────────────┼────────────────────────┼───────────────┤\n",
       "│ dense (<span style=\"color: #0087ff; text-decoration-color: #0087ff\">Dense</span>)                   │ (<span style=\"color: #00d7ff; text-decoration-color: #00d7ff\">None</span>, <span style=\"color: #00af00; text-decoration-color: #00af00\">128</span>)            │     <span style=\"color: #00af00; text-decoration-color: #00af00\">4,194,432</span> │\n",
       "├─────────────────────────────────┼────────────────────────┼───────────────┤\n",
       "│ batch_normalization_4           │ (<span style=\"color: #00d7ff; text-decoration-color: #00d7ff\">None</span>, <span style=\"color: #00af00; text-decoration-color: #00af00\">128</span>)            │           <span style=\"color: #00af00; text-decoration-color: #00af00\">512</span> │\n",
       "│ (<span style=\"color: #0087ff; text-decoration-color: #0087ff\">BatchNormalization</span>)            │                        │               │\n",
       "├─────────────────────────────────┼────────────────────────┼───────────────┤\n",
       "│ dropout_4 (<span style=\"color: #0087ff; text-decoration-color: #0087ff\">Dropout</span>)             │ (<span style=\"color: #00d7ff; text-decoration-color: #00d7ff\">None</span>, <span style=\"color: #00af00; text-decoration-color: #00af00\">128</span>)            │             <span style=\"color: #00af00; text-decoration-color: #00af00\">0</span> │\n",
       "├─────────────────────────────────┼────────────────────────┼───────────────┤\n",
       "│ dense_1 (<span style=\"color: #0087ff; text-decoration-color: #0087ff\">Dense</span>)                 │ (<span style=\"color: #00d7ff; text-decoration-color: #00d7ff\">None</span>, <span style=\"color: #00af00; text-decoration-color: #00af00\">1</span>)              │           <span style=\"color: #00af00; text-decoration-color: #00af00\">129</span> │\n",
       "└─────────────────────────────────┴────────────────────────┴───────────────┘\n",
       "</pre>\n"
      ],
      "text/plain": [
       "┏━━━━━━━━━━━━━━━━━━━━━━━━━━━━━━━━━┳━━━━━━━━━━━━━━━━━━━━━━━━┳━━━━━━━━━━━━━━━┓\n",
       "┃\u001b[1m \u001b[0m\u001b[1mLayer (type)                   \u001b[0m\u001b[1m \u001b[0m┃\u001b[1m \u001b[0m\u001b[1mOutput Shape          \u001b[0m\u001b[1m \u001b[0m┃\u001b[1m \u001b[0m\u001b[1m      Param #\u001b[0m\u001b[1m \u001b[0m┃\n",
       "┡━━━━━━━━━━━━━━━━━━━━━━━━━━━━━━━━━╇━━━━━━━━━━━━━━━━━━━━━━━━╇━━━━━━━━━━━━━━━┩\n",
       "│ conv2d (\u001b[38;5;33mConv2D\u001b[0m)                 │ (\u001b[38;5;45mNone\u001b[0m, \u001b[38;5;34m256\u001b[0m, \u001b[38;5;34m256\u001b[0m, \u001b[38;5;34m32\u001b[0m)   │           \u001b[38;5;34m320\u001b[0m │\n",
       "├─────────────────────────────────┼────────────────────────┼───────────────┤\n",
       "│ batch_normalization             │ (\u001b[38;5;45mNone\u001b[0m, \u001b[38;5;34m256\u001b[0m, \u001b[38;5;34m256\u001b[0m, \u001b[38;5;34m32\u001b[0m)   │           \u001b[38;5;34m128\u001b[0m │\n",
       "│ (\u001b[38;5;33mBatchNormalization\u001b[0m)            │                        │               │\n",
       "├─────────────────────────────────┼────────────────────────┼───────────────┤\n",
       "│ max_pooling2d (\u001b[38;5;33mMaxPooling2D\u001b[0m)    │ (\u001b[38;5;45mNone\u001b[0m, \u001b[38;5;34m128\u001b[0m, \u001b[38;5;34m128\u001b[0m, \u001b[38;5;34m32\u001b[0m)   │             \u001b[38;5;34m0\u001b[0m │\n",
       "├─────────────────────────────────┼────────────────────────┼───────────────┤\n",
       "│ dropout (\u001b[38;5;33mDropout\u001b[0m)               │ (\u001b[38;5;45mNone\u001b[0m, \u001b[38;5;34m128\u001b[0m, \u001b[38;5;34m128\u001b[0m, \u001b[38;5;34m32\u001b[0m)   │             \u001b[38;5;34m0\u001b[0m │\n",
       "├─────────────────────────────────┼────────────────────────┼───────────────┤\n",
       "│ conv2d_1 (\u001b[38;5;33mConv2D\u001b[0m)               │ (\u001b[38;5;45mNone\u001b[0m, \u001b[38;5;34m128\u001b[0m, \u001b[38;5;34m128\u001b[0m, \u001b[38;5;34m64\u001b[0m)   │        \u001b[38;5;34m18,496\u001b[0m │\n",
       "├─────────────────────────────────┼────────────────────────┼───────────────┤\n",
       "│ batch_normalization_1           │ (\u001b[38;5;45mNone\u001b[0m, \u001b[38;5;34m128\u001b[0m, \u001b[38;5;34m128\u001b[0m, \u001b[38;5;34m64\u001b[0m)   │           \u001b[38;5;34m256\u001b[0m │\n",
       "│ (\u001b[38;5;33mBatchNormalization\u001b[0m)            │                        │               │\n",
       "├─────────────────────────────────┼────────────────────────┼───────────────┤\n",
       "│ max_pooling2d_1 (\u001b[38;5;33mMaxPooling2D\u001b[0m)  │ (\u001b[38;5;45mNone\u001b[0m, \u001b[38;5;34m64\u001b[0m, \u001b[38;5;34m64\u001b[0m, \u001b[38;5;34m64\u001b[0m)     │             \u001b[38;5;34m0\u001b[0m │\n",
       "├─────────────────────────────────┼────────────────────────┼───────────────┤\n",
       "│ dropout_1 (\u001b[38;5;33mDropout\u001b[0m)             │ (\u001b[38;5;45mNone\u001b[0m, \u001b[38;5;34m64\u001b[0m, \u001b[38;5;34m64\u001b[0m, \u001b[38;5;34m64\u001b[0m)     │             \u001b[38;5;34m0\u001b[0m │\n",
       "├─────────────────────────────────┼────────────────────────┼───────────────┤\n",
       "│ conv2d_2 (\u001b[38;5;33mConv2D\u001b[0m)               │ (\u001b[38;5;45mNone\u001b[0m, \u001b[38;5;34m64\u001b[0m, \u001b[38;5;34m64\u001b[0m, \u001b[38;5;34m128\u001b[0m)    │        \u001b[38;5;34m73,856\u001b[0m │\n",
       "├─────────────────────────────────┼────────────────────────┼───────────────┤\n",
       "│ batch_normalization_2           │ (\u001b[38;5;45mNone\u001b[0m, \u001b[38;5;34m64\u001b[0m, \u001b[38;5;34m64\u001b[0m, \u001b[38;5;34m128\u001b[0m)    │           \u001b[38;5;34m512\u001b[0m │\n",
       "│ (\u001b[38;5;33mBatchNormalization\u001b[0m)            │                        │               │\n",
       "├─────────────────────────────────┼────────────────────────┼───────────────┤\n",
       "│ max_pooling2d_2 (\u001b[38;5;33mMaxPooling2D\u001b[0m)  │ (\u001b[38;5;45mNone\u001b[0m, \u001b[38;5;34m32\u001b[0m, \u001b[38;5;34m32\u001b[0m, \u001b[38;5;34m128\u001b[0m)    │             \u001b[38;5;34m0\u001b[0m │\n",
       "├─────────────────────────────────┼────────────────────────┼───────────────┤\n",
       "│ dropout_2 (\u001b[38;5;33mDropout\u001b[0m)             │ (\u001b[38;5;45mNone\u001b[0m, \u001b[38;5;34m32\u001b[0m, \u001b[38;5;34m32\u001b[0m, \u001b[38;5;34m128\u001b[0m)    │             \u001b[38;5;34m0\u001b[0m │\n",
       "├─────────────────────────────────┼────────────────────────┼───────────────┤\n",
       "│ conv2d_3 (\u001b[38;5;33mConv2D\u001b[0m)               │ (\u001b[38;5;45mNone\u001b[0m, \u001b[38;5;34m32\u001b[0m, \u001b[38;5;34m32\u001b[0m, \u001b[38;5;34m128\u001b[0m)    │       \u001b[38;5;34m147,584\u001b[0m │\n",
       "├─────────────────────────────────┼────────────────────────┼───────────────┤\n",
       "│ batch_normalization_3           │ (\u001b[38;5;45mNone\u001b[0m, \u001b[38;5;34m32\u001b[0m, \u001b[38;5;34m32\u001b[0m, \u001b[38;5;34m128\u001b[0m)    │           \u001b[38;5;34m512\u001b[0m │\n",
       "│ (\u001b[38;5;33mBatchNormalization\u001b[0m)            │                        │               │\n",
       "├─────────────────────────────────┼────────────────────────┼───────────────┤\n",
       "│ max_pooling2d_3 (\u001b[38;5;33mMaxPooling2D\u001b[0m)  │ (\u001b[38;5;45mNone\u001b[0m, \u001b[38;5;34m16\u001b[0m, \u001b[38;5;34m16\u001b[0m, \u001b[38;5;34m128\u001b[0m)    │             \u001b[38;5;34m0\u001b[0m │\n",
       "├─────────────────────────────────┼────────────────────────┼───────────────┤\n",
       "│ dropout_3 (\u001b[38;5;33mDropout\u001b[0m)             │ (\u001b[38;5;45mNone\u001b[0m, \u001b[38;5;34m16\u001b[0m, \u001b[38;5;34m16\u001b[0m, \u001b[38;5;34m128\u001b[0m)    │             \u001b[38;5;34m0\u001b[0m │\n",
       "├─────────────────────────────────┼────────────────────────┼───────────────┤\n",
       "│ flatten (\u001b[38;5;33mFlatten\u001b[0m)               │ (\u001b[38;5;45mNone\u001b[0m, \u001b[38;5;34m32768\u001b[0m)          │             \u001b[38;5;34m0\u001b[0m │\n",
       "├─────────────────────────────────┼────────────────────────┼───────────────┤\n",
       "│ dense (\u001b[38;5;33mDense\u001b[0m)                   │ (\u001b[38;5;45mNone\u001b[0m, \u001b[38;5;34m128\u001b[0m)            │     \u001b[38;5;34m4,194,432\u001b[0m │\n",
       "├─────────────────────────────────┼────────────────────────┼───────────────┤\n",
       "│ batch_normalization_4           │ (\u001b[38;5;45mNone\u001b[0m, \u001b[38;5;34m128\u001b[0m)            │           \u001b[38;5;34m512\u001b[0m │\n",
       "│ (\u001b[38;5;33mBatchNormalization\u001b[0m)            │                        │               │\n",
       "├─────────────────────────────────┼────────────────────────┼───────────────┤\n",
       "│ dropout_4 (\u001b[38;5;33mDropout\u001b[0m)             │ (\u001b[38;5;45mNone\u001b[0m, \u001b[38;5;34m128\u001b[0m)            │             \u001b[38;5;34m0\u001b[0m │\n",
       "├─────────────────────────────────┼────────────────────────┼───────────────┤\n",
       "│ dense_1 (\u001b[38;5;33mDense\u001b[0m)                 │ (\u001b[38;5;45mNone\u001b[0m, \u001b[38;5;34m1\u001b[0m)              │           \u001b[38;5;34m129\u001b[0m │\n",
       "└─────────────────────────────────┴────────────────────────┴───────────────┘\n"
      ]
     },
     "metadata": {},
     "output_type": "display_data"
    },
    {
     "data": {
      "text/html": [
       "<pre style=\"white-space:pre;overflow-x:auto;line-height:normal;font-family:Menlo,'DejaVu Sans Mono',consolas,'Courier New',monospace\"><span style=\"font-weight: bold\"> Total params: </span><span style=\"color: #00af00; text-decoration-color: #00af00\">8,872,516</span> (33.85 MB)\n",
       "</pre>\n"
      ],
      "text/plain": [
       "\u001b[1m Total params: \u001b[0m\u001b[38;5;34m8,872,516\u001b[0m (33.85 MB)\n"
      ]
     },
     "metadata": {},
     "output_type": "display_data"
    },
    {
     "data": {
      "text/html": [
       "<pre style=\"white-space:pre;overflow-x:auto;line-height:normal;font-family:Menlo,'DejaVu Sans Mono',consolas,'Courier New',monospace\"><span style=\"font-weight: bold\"> Trainable params: </span><span style=\"color: #00af00; text-decoration-color: #00af00\">4,435,777</span> (16.92 MB)\n",
       "</pre>\n"
      ],
      "text/plain": [
       "\u001b[1m Trainable params: \u001b[0m\u001b[38;5;34m4,435,777\u001b[0m (16.92 MB)\n"
      ]
     },
     "metadata": {},
     "output_type": "display_data"
    },
    {
     "data": {
      "text/html": [
       "<pre style=\"white-space:pre;overflow-x:auto;line-height:normal;font-family:Menlo,'DejaVu Sans Mono',consolas,'Courier New',monospace\"><span style=\"font-weight: bold\"> Non-trainable params: </span><span style=\"color: #00af00; text-decoration-color: #00af00\">960</span> (3.75 KB)\n",
       "</pre>\n"
      ],
      "text/plain": [
       "\u001b[1m Non-trainable params: \u001b[0m\u001b[38;5;34m960\u001b[0m (3.75 KB)\n"
      ]
     },
     "metadata": {},
     "output_type": "display_data"
    },
    {
     "data": {
      "text/html": [
       "<pre style=\"white-space:pre;overflow-x:auto;line-height:normal;font-family:Menlo,'DejaVu Sans Mono',consolas,'Courier New',monospace\"><span style=\"font-weight: bold\"> Optimizer params: </span><span style=\"color: #00af00; text-decoration-color: #00af00\">4,435,779</span> (16.92 MB)\n",
       "</pre>\n"
      ],
      "text/plain": [
       "\u001b[1m Optimizer params: \u001b[0m\u001b[38;5;34m4,435,779\u001b[0m (16.92 MB)\n"
      ]
     },
     "metadata": {},
     "output_type": "display_data"
    }
   ],
   "source": [
    "model.summary()"
   ]
  },
  {
   "cell_type": "markdown",
   "id": "a45f9d7d",
   "metadata": {
    "papermill": {
     "duration": 0.035587,
     "end_time": "2025-10-21T15:41:24.510996",
     "exception": false,
     "start_time": "2025-10-21T15:41:24.475409",
     "status": "completed"
    },
    "tags": []
   },
   "source": [
    "## Résultats"
   ]
  },
  {
   "cell_type": "code",
   "execution_count": 16,
   "id": "92fdd747",
   "metadata": {
    "execution": {
     "iopub.execute_input": "2025-10-21T15:41:24.585903Z",
     "iopub.status.busy": "2025-10-21T15:41:24.585170Z",
     "iopub.status.idle": "2025-10-21T15:41:27.757531Z",
     "shell.execute_reply": "2025-10-21T15:41:27.756773Z"
    },
    "papermill": {
     "duration": 3.210097,
     "end_time": "2025-10-21T15:41:27.758950",
     "exception": false,
     "start_time": "2025-10-21T15:41:24.548853",
     "status": "completed"
    },
    "tags": []
   },
   "outputs": [
    {
     "name": "stdout",
     "output_type": "stream",
     "text": [
      "\u001b[1m51/51\u001b[0m \u001b[32m━━━━━━━━━━━━━━━━━━━━\u001b[0m\u001b[37m\u001b[0m \u001b[1m2s\u001b[0m 29ms/step\n"
     ]
    }
   ],
   "source": [
    "# =========================\n",
    "# Évaluation sur le jeu de test\n",
    "# =========================\n",
    "y_pred_prob = model.predict(x_test)\n",
    "if multiclass:\n",
    "    # Prédiction des classes (multiclasses)\n",
    "    y_pred = np.argmax(y_pred_prob, axis=1)\n",
    "    y_true = np.argmax(y_test, axis=1)\n",
    "else:\n",
    "    # Prédiction binaire\n",
    "    y_pred = (y_pred_prob > 0.5).astype(int).flatten()\n",
    "    y_true = y_test.astype(int).flatten()"
   ]
  },
  {
   "cell_type": "code",
   "execution_count": 17,
   "id": "c18bf75f",
   "metadata": {
    "execution": {
     "iopub.execute_input": "2025-10-21T15:41:27.833863Z",
     "iopub.status.busy": "2025-10-21T15:41:27.833371Z",
     "iopub.status.idle": "2025-10-21T15:41:28.098325Z",
     "shell.execute_reply": "2025-10-21T15:41:28.097631Z"
    },
    "papermill": {
     "duration": 0.303077,
     "end_time": "2025-10-21T15:41:28.099528",
     "exception": false,
     "start_time": "2025-10-21T15:41:27.796451",
     "status": "completed"
    },
    "tags": []
   },
   "outputs": [
    {
     "data": {
      "image/png": "[encoded data removed]",
      "text/plain": [
       "<Figure size 800x600 with 2 Axes>"
      ]
     },
     "metadata": {},
     "output_type": "display_data"
    }
   ],
   "source": [
    "# =========================\n",
    "# Matrice de confusion\n",
    "# =========================\n",
    "cm = confusion_matrix(y_true, y_pred)\n",
    "plt.figure(figsize=(8,6))\n",
    "sns.heatmap(cm, annot=True, fmt='d', cmap='Blues')\n",
    "plt.title(\"Matrice de confusion\")\n",
    "plt.xlabel(\"Prédictions\")\n",
    "plt.ylabel(\"Valeurs réelles\")\n",
    "plt.show()"
   ]
  },
  {
   "cell_type": "code",
   "execution_count": 18,
   "id": "50e23ec4",
   "metadata": {
    "execution": {
     "iopub.execute_input": "2025-10-21T15:41:28.175243Z",
     "iopub.status.busy": "2025-10-21T15:41:28.174792Z",
     "iopub.status.idle": "2025-10-21T15:41:28.189073Z",
     "shell.execute_reply": "2025-10-21T15:41:28.188225Z"
    },
    "papermill": {
     "duration": 0.053098,
     "end_time": "2025-10-21T15:41:28.190199",
     "exception": false,
     "start_time": "2025-10-21T15:41:28.137101",
     "status": "completed"
    },
    "tags": []
   },
   "outputs": [
    {
     "name": "stdout",
     "output_type": "stream",
     "text": [
      "Accuracy sur le jeu de test : 0.5872\n",
      "\n",
      "=== Rapport de classification ===\n",
      "              precision    recall  f1-score   support\n",
      "\n",
      "           0       0.64      0.63      0.64       922\n",
      "           1       0.52      0.53      0.52       689\n",
      "\n",
      "    accuracy                           0.59      1611\n",
      "   macro avg       0.58      0.58      0.58      1611\n",
      "weighted avg       0.59      0.59      0.59      1611\n",
      "\n"
     ]
    }
   ],
   "source": [
    "# =========================\n",
    "# Rapport de classification\n",
    "# =========================\n",
    "print(f\"Accuracy sur le jeu de test : {accuracy_score(y_true, y_pred):.4f}\")\n",
    "print(\"\\n=== Rapport de classification ===\")\n",
    "print(classification_report(y_true, y_pred))"
   ]
  },
  {
   "cell_type": "code",
   "execution_count": 19,
   "id": "37657890",
   "metadata": {
    "execution": {
     "iopub.execute_input": "2025-10-21T15:41:28.265215Z",
     "iopub.status.busy": "2025-10-21T15:41:28.265003Z",
     "iopub.status.idle": "2025-10-21T15:41:28.594258Z",
     "shell.execute_reply": "2025-10-21T15:41:28.593529Z"
    },
    "papermill": {
     "duration": 0.368092,
     "end_time": "2025-10-21T15:41:28.595379",
     "exception": false,
     "start_time": "2025-10-21T15:41:28.227287",
     "status": "completed"
    },
    "tags": []
   },
   "outputs": [
    {
     "data": {
      "image/png": "[encoded data removed]",
      "text/plain": [
       "<Figure size 1200x500 with 2 Axes>"
      ]
     },
     "metadata": {},
     "output_type": "display_data"
    }
   ],
   "source": [
    "# =========================\n",
    "# Courbes d'apprentissage\n",
    "# =========================\n",
    "plt.figure(figsize=(12,5))\n",
    "\n",
    "# Courbe de loss\n",
    "plt.subplot(1,2,1)\n",
    "plt.plot(history.history['loss'], label='Train Loss')\n",
    "#plt.plot(history.history['val_loss'], label='Val Loss')\n",
    "plt.title(\"Courbe de Loss\")\n",
    "plt.xlabel(\"Épochs\")\n",
    "plt.ylabel(\"Loss\")\n",
    "plt.legend()\n",
    "\n",
    "# Courbe d'accuracy\n",
    "plt.subplot(1,2,2)\n",
    "plt.plot(history.history['accuracy'], label='Train Accuracy')\n",
    "#plt.plot(history.history['val_accuracy'], label='Val Accuracy')\n",
    "plt.title(\"Courbe d'Accuracy\")\n",
    "plt.xlabel(\"Épochs\")\n",
    "plt.ylabel(\"Accuracy\")\n",
    "plt.legend()\n",
    "\n",
    "plt.tight_layout()\n",
    "plt.show()"
   ]
  },
  {
   "cell_type": "code",
   "execution_count": null,
   "id": "2e4a2ecb",
   "metadata": {
    "execution": {
     "iopub.execute_input": "2025-10-21T15:41:28.673181Z",
     "iopub.status.busy": "2025-10-21T15:41:28.672642Z",
     "iopub.status.idle": "2025-10-21T15:41:28.824623Z",
     "shell.execute_reply": "2025-10-21T15:41:28.823936Z"
    },
    "papermill": {
     "duration": 0.191362,
     "end_time": "2025-10-21T15:41:28.825743",
     "exception": false,
     "start_time": "2025-10-21T15:41:28.634381",
     "status": "completed"
    },
    "tags": []
   },
   "outputs": [
    {
     "data": {
      "image/png": "[encoded data removed]",
      "text/plain": [
       "<Figure size 800x600 with 1 Axes>"
      ]
     },
     "metadata": {},
     "output_type": "display_data"
    }
   ],
   "source": [
    "# =========================\n",
    "# ROC Curve\n",
    "# =========================\n",
    "\n",
    "if multiclass:\n",
    "    # Calcul ROC pour chaque classe\n",
    "    n_classes = y_test.shape[1]\n",
    "    fpr = {}\n",
    "    tpr = {}\n",
    "    roc_auc = {}\n",
    "\n",
    "    plt.figure(figsize=(8,6))\n",
    "    for i in range(n_classes):\n",
    "        fpr[i], tpr[i], _ = roc_curve(y_test[:, i], y_pred_prob[:, i])\n",
    "        roc_auc[i] = auc(fpr[i], tpr[i])\n",
    "        plt.plot(fpr[i], tpr[i], label=f\"Classe {i} (AUC = {roc_auc[i]:.2f})\")\n",
    "\n",
    "    plt.plot([0, 1], [0, 1], 'k--')\n",
    "    plt.title(\"Courbes ROC (multiclasses)\")\n",
    "    plt.xlabel(\"Taux de faux positifs (FPR)\")\n",
    "    plt.ylabel(\"Taux de vrais positifs (TPR)\")\n",
    "    plt.legend()\n",
    "    plt.show()\n",
    "\n",
    "else:\n",
    "    # Cas binaire\n",
    "    fpr, tpr, _ = roc_curve(y_true, y_pred_prob)\n",
    "    roc_auc = auc(fpr, tpr)\n",
    "    plt.figure(figsize=(8,6))\n",
    "    plt.plot(fpr, tpr, label=f\"ROC curve (AUC = {roc_auc:.2f})\")\n",
    "    plt.plot([0,1],[0,1],'k--')\n",
    "    plt.title(\"Courbe ROC\")\n",
    "    plt.xlabel(\"Taux de faux positifs (FPR)\")\n",
    "    plt.ylabel(\"Taux de vrais positifs (TPR)\")\n",
    "    plt.legend()\n",
    "    plt.show()"
   ]
  },
  {
   "cell_type": "code",
   "execution_count": null,
   "id": "85c74bd4",
   "metadata": {
    "execution": {
     "iopub.execute_input": "2025-10-21T15:41:28.905379Z",
     "iopub.status.busy": "2025-10-21T15:41:28.905180Z",
     "iopub.status.idle": "2025-10-21T15:41:29.059066Z",
     "shell.execute_reply": "2025-10-21T15:41:29.058428Z"
    },
    "papermill": {
     "duration": 0.194557,
     "end_time": "2025-10-21T15:41:29.060269",
     "exception": false,
     "start_time": "2025-10-21T15:41:28.865712",
     "status": "completed"
    },
    "tags": []
   },
   "outputs": [
    {
     "data": {
      "image/png": "[encoded data removed]",
      "text/plain": [
       "<Figure size 800x600 with 1 Axes>"
      ]
     },
     "metadata": {},
     "output_type": "display_data"
    }
   ],
   "source": [
    "# =========================\n",
    "# PR Curve \n",
    "# =========================\n",
    "if multiclass:\n",
    "    plt.figure(figsize=(8,6))\n",
    "    for i in range(n_classes):\n",
    "        precision, recall, _ = precision_recall_curve(y_test[:, i], y_pred_prob[:, i])\n",
    "        ap = average_precision_score(y_test[:, i], y_pred_prob[:, i])\n",
    "        plt.plot(recall, precision, label=f\"Classe {i} (AP = {ap:.2f})\")\n",
    "\n",
    "    plt.title(\"Courbes Precision-Recall (multiclasses)\")\n",
    "    plt.xlabel(\"Recall\")\n",
    "    plt.ylabel(\"Precision\")\n",
    "    plt.legend()\n",
    "    plt.show()\n",
    "\n",
    "else:\n",
    "    precision, recall, _ = precision_recall_curve(y_true, y_pred_prob)\n",
    "    ap = average_precision_score(y_true, y_pred_prob)\n",
    "    plt.figure(figsize=(8,6))\n",
    "    plt.plot(recall, precision, label=f\"PR Curve (AP = {ap:.2f})\")\n",
    "    plt.title(\"Courbe Precision-Recall\")\n",
    "    plt.xlabel(\"Recall\")\n",
    "    plt.ylabel(\"Precision\")\n",
    "    plt.legend()\n",
    "    plt.show()"
   ]
  }
 ],
 "metadata": {
  "kaggle": {
   "accelerator": "gpu",
   "dataSources": [
    {
     "datasetId": 8519049,
     "sourceId": 13422340,
     "sourceType": "datasetVersion"
    }
   ],
   "dockerImageVersionId": 31153,
   "isGpuEnabled": true,
   "isInternetEnabled": true,
   "language": "python",
   "sourceType": "notebook"
  },
  "kernelspec": {
   "display_name": "Python 3",
   "language": "python",
   "name": "python3"
  },
  "language_info": {
   "codemirror_mode": {
    "name": "ipython",
    "version": 3
   },
   "file_extension": ".py",
   "mimetype": "text/x-python",
   "name": "python",
   "nbconvert_exporter": "python",
   "pygments_lexer": "ipython3",
   "version": "3.11.13"
  },
  "papermill": {
   "default_parameters": {},
   "duration": 7782.704635,
   "end_time": "2025-10-21T15:41:33.381028",
   "environment_variables": {},
   "exception": null,
   "input_path": "__notebook__.ipynb",
   "output_path": "__notebook__.ipynb",
   "parameters": {},
   "start_time": "2025-10-21T13:31:50.676393",
   "version": "2.6.0"
  }
 },
 "nbformat": 4,
 "nbformat_minor": 5
}
